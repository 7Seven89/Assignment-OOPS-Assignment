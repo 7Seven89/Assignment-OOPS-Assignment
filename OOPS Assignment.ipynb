{
 "cells": [
  {
   "cell_type": "markdown",
   "id": "3e8fc2b6-65d1-47ca-bba6-36fb2fcdcf1b",
   "metadata": {},
   "source": [
    "**Q1. Explain Class and Object with respect to Object-Oriented Programming. Give a suitable example.**"
   ]
  },
  {
   "cell_type": "markdown",
   "id": "5cc15a1a-0e33-44b4-a9ed-9ac96bb16be3",
   "metadata": {},
   "source": [
    "A1. \n",
    "- **Class:** A class is a blueprint for creating objects. It defines the attirbutes and the methods of an object within a class. It is like a template which is used to create objects.\n",
    "- **Object:** An object is an instance of a class, which are created on the basis of the structure provided by the class. Objects have unique attributes and can perform actions defined by the class."
   ]
  },
  {
   "cell_type": "code",
   "execution_count": 6,
   "id": "6727dbe8-a674-4a94-8e3a-87f1f689f530",
   "metadata": {},
   "outputs": [
    {
     "name": "stdout",
     "output_type": "stream",
     "text": [
      "Name: John Doe, Emp. ID: PW-123, DOB: 02/04/1990, Contact: 897997990\n"
     ]
    }
   ],
   "source": [
    "# Example:\n",
    "\n",
    "class employee_details:\n",
    "    def __init__(self, fname, lname, emp_id, date_of_birth, ph_no):\n",
    "        self.fname = fname\n",
    "        self.lname = lname\n",
    "        self.emp_id = emp_id\n",
    "        self.date_of_birth = date_of_birth\n",
    "        self.ph_no = ph_no\n",
    "\n",
    "    @property\n",
    "    def fullname(self):\n",
    "        return \"{} {}\".format(self.fname, self.lname)\n",
    "        \n",
    "    def get_info(self):\n",
    "        print(\"Name: {}, Emp. ID: {}, DOB: {}, Contact: {}\".format(self.fullname, self.emp_id, self.date_of_birth, self.ph_no))\n",
    "\n",
    "# Creating an object:\n",
    "\n",
    "employee_1 = employee_details(\"John\", \"Doe\", \"PW-123\", \"02/04/1990\", 897997990)\n",
    "\n",
    "employee_1.get_info()"
   ]
  },
  {
   "cell_type": "markdown",
   "id": "cebd8521-c109-4b51-bf31-2cec36f7dfe1",
   "metadata": {},
   "source": [
    "**Q2. Q2. Name the four pillars of OOPs.**"
   ]
  },
  {
   "cell_type": "markdown",
   "id": "d9372592-d09a-46fb-8e94-2c5dfc4c5945",
   "metadata": {},
   "source": [
    "A2. \n",
    "- **Polymorphism:** This refers to the ability of different objects to respond in different ways to the same method. This allows flexibility and code reusability. For example if we add two strings, they are concatenated. On the other hand, if we add two int they result in a sum, same function but different objects.\n",
    "- **Inheritance:** This allows classes to inherit properties and behaviours from other classes. It establishes a relationship between classes which allows for extensibility and code reuseability.\n",
    "- **Encapsulation:** It is the bundling of data and methods together and keeping them in a single unit. This allows for the hiding of the data and exposing only the necessary functionalities.\n",
    "- **Abstraction:** It is the process of representing complex systems or ideas in a simplified manner, focusing on the essential aspects while ignoring irrelevant details."
   ]
  },
  {
   "cell_type": "markdown",
   "id": "9ed23654-ab76-476a-a82c-3a365b88138d",
   "metadata": {},
   "source": [
    "**Q3. Explain why the __init__() function is used. Give a suitable example.**"
   ]
  },
  {
   "cell_type": "markdown",
   "id": "60499863-bcf0-4029-91ce-f9750fc64fb4",
   "metadata": {},
   "source": [
    "A4. The __init__() function, also known as the constructor method, is used in Python classes to initialize the attributes of an object when it is created. It is called automatically when a new instance of the class is created."
   ]
  },
  {
   "cell_type": "code",
   "execution_count": 8,
   "id": "a55a2eb3-bbaf-4e1c-82a9-c9c30401c162",
   "metadata": {},
   "outputs": [
    {
     "name": "stdout",
     "output_type": "stream",
     "text": [
      "Name: Alice\n",
      "Age: 30\n"
     ]
    }
   ],
   "source": [
    "# Exmple:\n",
    "class Person:\n",
    "    def __init__(self, name, age):\n",
    "        self.name = name\n",
    "        self.age = age\n",
    "\n",
    "    def display_info(self):\n",
    "        print(\"Name:\", self.name)\n",
    "        print(\"Age:\", self.age)\n",
    "\n",
    "person1 = Person(\"Alice\", 30)\n",
    "\n",
    "person1.display_info()"
   ]
  },
  {
   "cell_type": "markdown",
   "id": "78319e45-41d8-495e-b119-c5f8d0f9cd49",
   "metadata": {},
   "source": [
    "**Q4. Why self is used in OOPs?**"
   ]
  },
  {
   "cell_type": "markdown",
   "id": "b6827117-c467-4b21-a160-a78c211fb2c1",
   "metadata": {},
   "source": [
    "A4. Self is used to refer to the current instance of a class. It is a reference to the object itself, allowing methods within the class to access and manipulate the object's attributes and methods."
   ]
  },
  {
   "cell_type": "markdown",
   "id": "68dc71fa-9386-43ac-9a0b-b21ff2842cd4",
   "metadata": {},
   "source": [
    "**Q5. What is inheritance? Give an example for each type of inheritance.**"
   ]
  },
  {
   "cell_type": "markdown",
   "id": "56c077e8-c2ed-4723-a676-409252c43b51",
   "metadata": {},
   "source": [
    "A5. Inheritance is a concept in which a new class and inherit attributes and methods from an existing class. This allows the subclass to reuse and extend the functionality of the superclass, promoting code reuse and modular design."
   ]
  },
  {
   "cell_type": "code",
   "execution_count": 12,
   "id": "c88bbdbc-45d4-4a08-b0db-44be7724ff7b",
   "metadata": {},
   "outputs": [
    {
     "name": "stdout",
     "output_type": "stream",
     "text": [
      "2020\n",
      "60 Kmph\n"
     ]
    }
   ],
   "source": [
    "# Example - Single Inheritance:\n",
    "\n",
    "class driving_laws:\n",
    "    def speed_limit(self):\n",
    "        print(\"60 Kmph\")\n",
    "\n",
    "class car_type(driving_laws):\n",
    "    def car_model(self):\n",
    "        print(2020)\n",
    "\n",
    "VW_Polo = car_type()\n",
    "\n",
    "VW_Polo.car_model()\n",
    "VW_Polo.speed_limit()"
   ]
  },
  {
   "cell_type": "code",
   "execution_count": 15,
   "id": "7198974c-9af6-4889-8edb-15eecc38bbfc",
   "metadata": {},
   "outputs": [
    {
     "name": "stdout",
     "output_type": "stream",
     "text": [
      "2020\n",
      "60 Kmph\n",
      "India\n"
     ]
    }
   ],
   "source": [
    "# Example - Multiple Inheritance:\n",
    "\n",
    "class driving_laws:\n",
    "    def speed_limit(self):\n",
    "        print(\"60 Kmph\")\n",
    "\n",
    "class reg_country:\n",
    "    def name_country(self):\n",
    "        print(\"India\")\n",
    "\n",
    "class car_type(driving_laws, reg_country):\n",
    "    def car_model(self):\n",
    "        print(2020)\n",
    "\n",
    "toyota = car_type()\n",
    "toyota.car_model()\n",
    "toyota.speed_limit()\n",
    "toyota.name_country()"
   ]
  },
  {
   "cell_type": "code",
   "execution_count": 16,
   "id": "aae28d79-7999-4933-b272-ad46ecfbebb7",
   "metadata": {},
   "outputs": [
    {
     "name": "stdout",
     "output_type": "stream",
     "text": [
      "2020\n",
      "60 Kmph\n",
      "India\n"
     ]
    }
   ],
   "source": [
    "# Example - Multilevel Inheritance:\n",
    "\n",
    "class driving_laws:\n",
    "    def speed_limit(self):\n",
    "        print(\"60 Kmph\")\n",
    "\n",
    "class reg_country(driving_laws):\n",
    "    def name_country(self):\n",
    "        print(\"India\")\n",
    "\n",
    "class car_type(reg_country):\n",
    "    def car_model(self):\n",
    "        print(2020)\n",
    "\n",
    "toyota = car_type()\n",
    "toyota.car_model()\n",
    "toyota.speed_limit()\n",
    "toyota.name_country()"
   ]
  },
  {
   "cell_type": "code",
   "execution_count": null,
   "id": "c51fe545-7110-431b-ba1a-e46d8cb05222",
   "metadata": {},
   "outputs": [],
   "source": []
  }
 ],
 "metadata": {
  "kernelspec": {
   "display_name": "Python 3 (ipykernel)",
   "language": "python",
   "name": "python3"
  },
  "language_info": {
   "codemirror_mode": {
    "name": "ipython",
    "version": 3
   },
   "file_extension": ".py",
   "mimetype": "text/x-python",
   "name": "python",
   "nbconvert_exporter": "python",
   "pygments_lexer": "ipython3",
   "version": "3.12.2"
  }
 },
 "nbformat": 4,
 "nbformat_minor": 5
}
